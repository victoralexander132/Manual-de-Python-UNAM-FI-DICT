{
 "cells": [
  {
   "cell_type": "markdown",
   "metadata": {},
   "source": [
    "# Obspy"
   ]
  },
  {
   "cell_type": "markdown",
   "metadata": {},
   "source": [
    "## Leer sismogramas"
   ]
  },
  {
   "cell_type": "code",
   "execution_count": null,
   "metadata": {},
   "outputs": [],
   "source": [
    "# Lo primero es importar la biblioteca\n",
    "import obspy\n",
    "# Leer el archivo desde una página de internet\n",
    "st = obspy.read('http://examples.obspy.org/RJOB_061005_072159.ehz.new')"
   ]
  },
  {
   "cell_type": "code",
   "execution_count": null,
   "metadata": {},
   "outputs": [],
   "source": [
    "# Datos del archivo\n",
    "print(st)"
   ]
  },
  {
   "cell_type": "code",
   "execution_count": null,
   "metadata": {},
   "outputs": [],
   "source": [
    "# Número de trazas dentro del archivo\n",
    "len(st)"
   ]
  },
  {
   "cell_type": "code",
   "execution_count": null,
   "metadata": {},
   "outputs": [],
   "source": [
    "tr = st[0]\n",
    "# Crear una variable para la traza sísmica"
   ]
  },
  {
   "cell_type": "code",
   "execution_count": null,
   "metadata": {},
   "outputs": [],
   "source": [
    "print(tr)\n",
    "# Comprobar los datos de la traza sísmica"
   ]
  },
  {
   "cell_type": "markdown",
   "metadata": {},
   "source": [
    "## Acceder a los metadatos"
   ]
  },
  {
   "cell_type": "code",
   "execution_count": null,
   "metadata": {},
   "outputs": [],
   "source": [
    "# Método stats para conocer los metadatos\n",
    "print(tr.stats)\n",
    "tr.stats.station\n",
    "# Conocer la estación de la traza"
   ]
  },
  {
   "cell_type": "code",
   "execution_count": null,
   "metadata": {},
   "outputs": [],
   "source": [
    "# Número de muestras en la traza\n",
    "len(tr)"
   ]
  },
  {
   "cell_type": "markdown",
   "metadata": {},
   "source": [
    "## Visualización de datos"
   ]
  },
  {
   "cell_type": "code",
   "execution_count": null,
   "metadata": {},
   "outputs": [],
   "source": [
    "dt = st[0].stats.starttime\n",
    "# Hora de inicio de los datos\n",
    "st.plot(color='red',tick_rotation=5,starttime=dt+45,\n",
    "endtime=st[0].stats.endtime)"
   ]
  },
  {
   "cell_type": "markdown",
   "metadata": {},
   "source": [
    "## Filtrado de sismogramas"
   ]
  },
  {
   "cell_type": "code",
   "execution_count": null,
   "metadata": {},
   "outputs": [],
   "source": [
    "import numpy as np\n",
    "import matplotlib.pyplot as plt\n",
    "import obspy\n",
    "# Leer el sismograma\n",
    "st = obspy.read(\"https://examples.obspy.org/RJOB_061005_072159.ehz.new\")\n",
    "# Contiene solo una traza sísmica\n",
    "tr = st[0]\n",
    "# Filtrando con un pasabajas en una copia de la traza original\n",
    "tr_filt = tr.copy()\n",
    "tr_filt.filter('lowpass', freq=1.0, corners=2, zerophase=True)\n",
    "# Ahora grafiquemos los datos originales y los filtrados\n",
    "t = np.arange(0, tr.stats.npts / tr.stats.sampling_rate, tr.stats.delta)\n",
    "plt.subplot(211)\n",
    "plt.plot(t, tr.data,'r')\n",
    "plt.ylabel('Datos originales')\n",
    "plt.subplot(212)\n",
    "plt.plot(t, tr_filt.data,'b')\n",
    "plt.ylabel('Datos filtrados')\n",
    "plt.xlabel('Tiempo [s]')\n",
    "plt.suptitle(tr.stats.starttime)\n",
    "plt.show()"
   ]
  },
  {
   "cell_type": "markdown",
   "metadata": {},
   "source": [
    "## Espectros de amplitud y de fase"
   ]
  },
  {
   "cell_type": "code",
   "execution_count": null,
   "metadata": {},
   "outputs": [],
   "source": [
    "# Importamos las librerías necesarias\n",
    "import obspy\n",
    "import matplotlib.pyplot as plt\n",
    "import numpy as np"
   ]
  },
  {
   "cell_type": "code",
   "execution_count": null,
   "metadata": {},
   "outputs": [],
   "source": [
    "# Cargamos el sismograma\n",
    "st = obspy.read('http://examples.obspy.org/RJOB_061005_072159.ehz.new')\n",
    "# Obtenemos la única traza del sismograma\n",
    "tr = st[0]"
   ]
  },
  {
   "cell_type": "code",
   "execution_count": null,
   "metadata": {},
   "outputs": [],
   "source": [
    "# Asignamos los datos del sismograma a una variable\n",
    "y = tr.data\n",
    "# Graficamos la traza que vamos a utilizar\n",
    "st.plot(color='C1')"
   ]
  },
  {
   "cell_type": "code",
   "execution_count": null,
   "metadata": {},
   "outputs": [],
   "source": [
    "# Obtenemos la frecuencia de muestreo de la traza\n",
    "Fs = tr.stats.sampling_rate\n",
    "# Creamos la figura para graficar los espectros\n",
    "fig, axes = plt.subplots(nrows=2, ncols=1, figsize=(9, 9))\n",
    "# Graficamos el espectro de amplitud\n",
    "axes[0].set_title(\"Espectro de magnitud\")\n",
    "axes[0].magnitude_spectrum(y, Fs=Fs, color='C1')\n",
    "# Graficamos el espectro de fase\n",
    "axes[1].set_title(\"Espectro de fase\")\n",
    "axes[1].phase_spectrum(y, Fs=Fs, color='C1')\n",
    "fig.tight_layout()\n",
    "plt.show()"
   ]
  },
  {
   "cell_type": "markdown",
   "metadata": {},
   "source": [
    "## Espectrogramas"
   ]
  },
  {
   "cell_type": "code",
   "execution_count": null,
   "metadata": {},
   "outputs": [],
   "source": [
    "# Importar Obspy\n",
    "import obspy\n",
    "# Leer el sismograma\n",
    "st = obspy.read(\"https://examples.obspy.org/RJOB_061005_072159.ehz.new\")\n",
    "# Graficar sismograma\n",
    "st.spectrogram(log=True, title='Espectrograma'+str(st[0].stats.starttime))"
   ]
  }
 ],
 "metadata": {
  "kernelspec": {
   "display_name": "Python 3",
   "language": "python",
   "name": "python3"
  },
  "language_info": {
   "codemirror_mode": {
    "name": "ipython",
    "version": 3
   },
   "file_extension": ".py",
   "mimetype": "text/x-python",
   "name": "python",
   "nbconvert_exporter": "python",
   "pygments_lexer": "ipython3",
   "version": "3.7.2"
  }
 },
 "nbformat": 4,
 "nbformat_minor": 2
}
