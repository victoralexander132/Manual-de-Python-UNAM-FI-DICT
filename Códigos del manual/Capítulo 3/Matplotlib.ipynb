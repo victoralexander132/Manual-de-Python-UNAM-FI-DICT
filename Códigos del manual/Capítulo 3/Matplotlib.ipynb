{
 "cells": [
  {
   "cell_type": "markdown",
   "metadata": {},
   "source": [
    "# Matplotlib"
   ]
  },
  {
   "cell_type": "code",
   "execution_count": null,
   "metadata": {},
   "outputs": [],
   "source": [
    "import matplotlib.pyplot as plt\n",
    "import numpy as np\n",
    "x = np.linspace(-np.pi, np.pi)\n",
    "y = np.sin(x)\n",
    "plt.plot(x, y)\n",
    "# Genera una gráfica en el fondo\n",
    "plt.xlabel('x')\n",
    "# Título del eje x\n",
    "plt.ylabel('sin(x)')\n",
    "# Título del eje y\n",
    "plt.title(\"Gráfica simple\")\n",
    "# Título de la figura\n",
    "plt.show()\n",
    "# Muestra la gráfica"
   ]
  },
  {
   "cell_type": "code",
   "execution_count": null,
   "metadata": {},
   "outputs": [],
   "source": [
    "import matplotlib.pyplot as plt\n",
    "import numpy as np\n",
    "x = np.linspace(0, 2, 100)\n",
    "plt.plot(x, x)\n",
    "# Línea 1\n",
    "plt.plot(x, x**2)\n",
    "# Línea 2\n",
    "plt.plot(x, x**3)\n",
    "# Línea 3\n",
    "plt.xlabel('Eje x')\n",
    "plt.ylabel('Eje y')\n",
    "plt.title(\"Gráfica múltiple\")\n",
    "plt.show()"
   ]
  },
  {
   "cell_type": "code",
   "execution_count": null,
   "metadata": {},
   "outputs": [],
   "source": [
    "import matplotlib.pyplot as plt\n",
    "import numpy as np\n",
    "x = np.linspace(0, 2, 100)\n",
    "# label se ocupa para asignar el título de la leyenda\n",
    "plt.plot(x, x, label='Lineal')\n",
    "plt.plot(x, x**2, label='Cuadrática')\n",
    "plt.plot(x, x**3, label='Cúbica')\n",
    "plt.xlabel('Eje x')\n",
    "plt.ylabel('Eje y')\n",
    "plt.title(\"Gráfica con leyenda y grid\")\n",
    "plt.grid()\n",
    "# Llama al grid en la figura\n",
    "plt.legend()\n",
    "# Muestra la leyenda de las líneas\n",
    "plt.show()"
   ]
  },
  {
   "cell_type": "markdown",
   "metadata": {},
   "source": [
    "## Estilo de gráficas"
   ]
  },
  {
   "cell_type": "code",
   "execution_count": null,
   "metadata": {},
   "outputs": [],
   "source": [
    "import matplotlib.pyplot as plt\n",
    "import numpy as np\n",
    "x = np.linspace(0,2*np.pi)\n",
    "y1 = np.sin(x)\n",
    "y2 = np.cos(x)\n",
    "plt.figure\n",
    "plt.xlabel('x')\n",
    "plt.ylabel('y (x)')\n",
    "plt.plot(x,y1,color='blue',marker='.',linestyle='solid',linewidth=0.9,markersize=5)\n",
    "plt.plot(x,y2,color='red',marker='*',linestyle='solid',linewidth=0.9,markersize=5)\n",
    "plt.show()"
   ]
  },
  {
   "cell_type": "markdown",
   "metadata": {},
   "source": [
    "## Subplots"
   ]
  },
  {
   "cell_type": "code",
   "execution_count": null,
   "metadata": {},
   "outputs": [],
   "source": [
    "import numpy as np\n",
    "import matplotlib.pyplot as plt\n",
    "x = np.linspace(0.0, 3.)\n",
    "y1 = np.cos(2 * np.pi * x) * np.exp(-x)\n",
    "y2 = np.cos(2 * np.pi * x)\n",
    "# Subplot 1\n",
    "plt.subplot(2, 1, 1)\n",
    "plt.plot(x, y2,'.-')\n",
    "plt.title('Subplot 1')\n",
    "plt.xlabel('Eje x1')\n",
    "plt.ylabel('Coseno')\n",
    "# Subplot 2\n",
    "plt.subplot(2, 1, 2)\n",
    "plt.plot(x, y1,'.-')\n",
    "plt.title('Subplot 2')\n",
    "plt.xlabel('Eje x2')\n",
    "plt.ylabel('Coseno Atenuado')\n",
    "plt.tight_layout()\n",
    "# Evita superposición de ejes y títulos\n",
    "plt.show()"
   ]
  }
 ],
 "metadata": {
  "kernelspec": {
   "display_name": "Python 3",
   "language": "python",
   "name": "python3"
  },
  "language_info": {
   "codemirror_mode": {
    "name": "ipython",
    "version": 3
   },
   "file_extension": ".py",
   "mimetype": "text/x-python",
   "name": "python",
   "nbconvert_exporter": "python",
   "pygments_lexer": "ipython3",
   "version": "3.7.2"
  }
 },
 "nbformat": 4,
 "nbformat_minor": 2
}
