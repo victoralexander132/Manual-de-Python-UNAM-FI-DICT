{
 "cells": [
  {
   "cell_type": "markdown",
   "metadata": {},
   "source": [
    "# Python para cómputo científico"
   ]
  },
  {
   "cell_type": "markdown",
   "metadata": {},
   "source": [
    "## Creando arreglos"
   ]
  },
  {
   "cell_type": "code",
   "execution_count": null,
   "metadata": {},
   "outputs": [],
   "source": [
    "import numpy as np\n",
    "A = np.array([4, 5, 6])\n",
    "print ('Numero de elementos', A.size)\n",
    "print ('Forma de dimensiones', A.shape)\n",
    "print ('Numero de dimensiones', A.ndim)\n",
    "print ('Tipo de dato', A.dtype)"
   ]
  },
  {
   "cell_type": "code",
   "execution_count": null,
   "metadata": {},
   "outputs": [],
   "source": [
    "B = np.array([[1, 2, 3], [4, 5, 6], [7, 8, 9]], dtype=float)\n",
    "print ('Numero de elementos', B.size)\n",
    "print ('Forma de dimensiones', B.shape)\n",
    "print ('Numero de dimensiones', B.ndim)\n",
    "print ('Tipo de dato', B.dtype)"
   ]
  },
  {
   "cell_type": "markdown",
   "metadata": {},
   "source": [
    "### Matrices y vectores de ceros y de unos"
   ]
  },
  {
   "cell_type": "code",
   "execution_count": null,
   "metadata": {},
   "outputs": [],
   "source": [
    "import numpy as np\n",
    "A = np.zeros(3)\n",
    "AA = np.zeros((3,3))\n",
    "print('Vector:\\n',A)\n",
    "print('Matriz:\\n',AA)\n",
    "B = np.ones(3)\n",
    "BB = np.ones((3, 3))\n",
    "print('Vector:\\n', B)\n",
    "print('Matriz:\\n', BB)"
   ]
  },
  {
   "cell_type": "markdown",
   "metadata": {},
   "source": [
    "### Vector equiespaciado"
   ]
  },
  {
   "cell_type": "code",
   "execution_count": null,
   "metadata": {},
   "outputs": [],
   "source": [
    "import numpy as np\n",
    "A = np.arange(1,10,2)\n",
    "A"
   ]
  },
  {
   "cell_type": "markdown",
   "metadata": {},
   "source": [
    "### Vector con n número de elementos"
   ]
  },
  {
   "cell_type": "code",
   "execution_count": null,
   "metadata": {},
   "outputs": [],
   "source": [
    "import numpy as np\n",
    "A = np.linspace(-1,1,5)\n",
    "A"
   ]
  },
  {
   "cell_type": "markdown",
   "metadata": {},
   "source": [
    "### Matriz identidad"
   ]
  },
  {
   "cell_type": "code",
   "execution_count": null,
   "metadata": {},
   "outputs": [],
   "source": [
    "import numpy as np\n",
    "A = np.identity(3)\n",
    "A"
   ]
  },
  {
   "cell_type": "markdown",
   "metadata": {},
   "source": [
    "## Operaciones con arreglos"
   ]
  },
  {
   "cell_type": "code",
   "execution_count": null,
   "metadata": {},
   "outputs": [],
   "source": [
    "# Para  arreglos  de  las  mismas  dimensiones,  las  operaciones  aritméticas  básicas  se  realizan \n",
    "# elemento a elemento\n",
    "import numpy as np\n",
    "A = np.array([1, 2, 3])\n",
    "B = np.array([1, 2, 3])\n",
    "print('Suma :', A + B)\n",
    "print('Resta :', A - B)\n",
    "print('Multiplicacion :', A * B)\n",
    "print('Division :', A / B)\n",
    "print('Potencia :', A ** B)"
   ]
  },
  {
   "cell_type": "code",
   "execution_count": null,
   "metadata": {},
   "outputs": [],
   "source": [
    "# Para efectuar la multiplicación habitual de arreglos (recorriendo filas y columnas) \n",
    "# necesitamos utilizar el símbolo @\n",
    "import numpy as np\n",
    "A = np.identity(3) * 2\n",
    "B = np.arange(1, 10).reshape((3, 3))\n",
    "print('A \\n', A)\n",
    "print('\\n B \\n', B)\n",
    "print('\\n Multiplicacion de arreglos \\n', A @ B)"
   ]
  },
  {
   "cell_type": "code",
   "execution_count": null,
   "metadata": {},
   "outputs": [],
   "source": [
    "# Para transponer un arreglo necesitamos la función de Numpy, transpose\n",
    "import numpy as np\n",
    "A = np.arange(9).reshape((3, 3))\n",
    "print('A \\n', A)\n",
    "print('Transpuesta de A \\n', np.transpose(A))"
   ]
  },
  {
   "cell_type": "code",
   "execution_count": null,
   "metadata": {},
   "outputs": [],
   "source": [
    "# Anexar un vector a una matriz de manera horizontal o vertical\n",
    "# (También se pueden anexar matrices con matrices)\n",
    "import numpy as np\n",
    "A = np.arange(20).reshape(4, 5)\n",
    "A2 = np.ones((4, 1))\n",
    "A3 = np.ones((1, 5))\n",
    "print('hstack \\n', np.hstack((A, A2)))\n",
    "print('vstack \\n', np.vstack((A, A3)))"
   ]
  },
  {
   "cell_type": "markdown",
   "metadata": {},
   "source": [
    "## Indexando y cortando un arreglo"
   ]
  },
  {
   "cell_type": "code",
   "execution_count": null,
   "metadata": {},
   "outputs": [],
   "source": [
    "import numpy as np\n",
    "A = np.arange(25).reshape((5, 5))\n",
    "print('A \\n', A)"
   ]
  },
  {
   "cell_type": "code",
   "execution_count": null,
   "metadata": {},
   "outputs": [],
   "source": [
    "print('Elemento del tercer renglón, cuarta columna')\n",
    "print(A[2, 3])"
   ]
  },
  {
   "cell_type": "code",
   "execution_count": null,
   "metadata": {},
   "outputs": [],
   "source": [
    "print('Primer renglón')\n",
    "print(A[0, :])"
   ]
  },
  {
   "cell_type": "code",
   "execution_count": null,
   "metadata": {},
   "outputs": [],
   "source": [
    "print('Segunda columna')\n",
    "print(A[:, 1])"
   ]
  },
  {
   "cell_type": "code",
   "execution_count": null,
   "metadata": {},
   "outputs": [],
   "source": [
    "print('Todos los renglones de la columna 3 en adelante')\n",
    "print(A[:, 2:])"
   ]
  },
  {
   "cell_type": "code",
   "execution_count": null,
   "metadata": {},
   "outputs": [],
   "source": [
    "# Python tiene la facilidad de poder acceder a los elementos desde el final, si queremos acceder\n",
    "# al último elemento de una fila o renglón no necesitamos más que escoger el índice [-1], si\n",
    "# queremos el penúltimo elemento, tomamos el índice [-2] y de la misma manera para los\n",
    "# demás elementos. Tenemos que notar que para la selección de toda una columna o renglón\n",
    "# utilizamos los dos puntos (:). Los dos puntos (:) también se utilizan para definir todos los\n",
    "# elementos a partir de cierto índice.\n",
    "A[0, -1]"
   ]
  },
  {
   "cell_type": "markdown",
   "metadata": {},
   "source": [
    "## Mesh"
   ]
  },
  {
   "cell_type": "code",
   "execution_count": null,
   "metadata": {},
   "outputs": [],
   "source": [
    "import numpy as np\n",
    "x = np.arange(1, 6)\n",
    "y = np.arange(1, 4)\n",
    "X, Y = np.meshgrid(x, y)\n",
    "print('x:', x)\n",
    "print('\\n X \\n', X)\n",
    "print('\\n y:', y)\n",
    "print('\\n Y \\n', Y)"
   ]
  },
  {
   "cell_type": "markdown",
   "metadata": {},
   "source": [
    "## Valores mínimos y máximos"
   ]
  },
  {
   "cell_type": "code",
   "execution_count": null,
   "metadata": {},
   "outputs": [],
   "source": [
    "import numpy as np\n",
    "A = np.array([(8, 6, 9), (25, 0, -4), (2, 9, -12)])\n",
    "print('A \\n', A)\n",
    "print('Mínimo global \\n', A.min())\n",
    "print('Máximo global \\n', A.max())"
   ]
  },
  {
   "cell_type": "code",
   "execution_count": null,
   "metadata": {},
   "outputs": [],
   "source": [
    "print('Mínimos de cada columna \\n', A.min(axis=0))"
   ]
  },
  {
   "cell_type": "code",
   "execution_count": null,
   "metadata": {},
   "outputs": [],
   "source": [
    "print('Máximos de cada renglón \\n', A.max(axis=1))"
   ]
  },
  {
   "cell_type": "markdown",
   "metadata": {},
   "source": [
    "## Leer y escribir arreglos en archivos"
   ]
  },
  {
   "cell_type": "code",
   "execution_count": null,
   "metadata": {},
   "outputs": [],
   "source": [
    "import numpy as np\n",
    "A = np.loadtxt('data.txt', skiprows=2, usecols=(1, 2), delimiter='   ')\n",
    "print(A)"
   ]
  },
  {
   "cell_type": "code",
   "execution_count": null,
   "metadata": {},
   "outputs": [],
   "source": [
    "import numpy as np\n",
    "A = np.random.random((3, 3))\n",
    "np.savetxt('A.txt', A, fmt='%8.6f')"
   ]
  }
 ],
 "metadata": {
  "kernelspec": {
   "display_name": "Python 3",
   "language": "python",
   "name": "python3"
  },
  "language_info": {
   "codemirror_mode": {
    "name": "ipython",
    "version": 3
   },
   "file_extension": ".py",
   "mimetype": "text/x-python",
   "name": "python",
   "nbconvert_exporter": "python",
   "pygments_lexer": "ipython3",
   "version": "3.7.2"
  }
 },
 "nbformat": 4,
 "nbformat_minor": 2
}
